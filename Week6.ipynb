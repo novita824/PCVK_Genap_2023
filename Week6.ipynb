{
  "nbformat": 4,
  "nbformat_minor": 0,
  "metadata": {
    "colab": {
      "provenance": [],
      "authorship_tag": "ABX9TyPnxmyLrX6Q1QAMWl+AC7Ma",
      "include_colab_link": true
    },
    "kernelspec": {
      "name": "python3",
      "display_name": "Python 3"
    },
    "language_info": {
      "name": "python"
    }
  },
  "cells": [
    {
      "cell_type": "markdown",
      "metadata": {
        "id": "view-in-github",
        "colab_type": "text"
      },
      "source": [
        "<a href=\"https://colab.research.google.com/github/novita824/PCVK_Genap_2023/blob/main/Week6.ipynb\" target=\"_parent\"><img src=\"https://colab.research.google.com/assets/colab-badge.svg\" alt=\"Open In Colab\"/></a>"
      ]
    },
    {
      "cell_type": "code",
      "source": [
        "from google.colab import drive\n",
        "\n",
        "# Accesing My Google Drive\n",
        "drive.mount('/content/drive')"
      ],
      "metadata": {
        "id": "HjCWLxaTuKvD",
        "outputId": "0e523387-3e4d-4348-d39e-f34eb989c9c4",
        "colab": {
          "base_uri": "https://localhost:8080/"
        }
      },
      "execution_count": 3,
      "outputs": [
        {
          "output_type": "stream",
          "name": "stdout",
          "text": [
            "Mounted at /content/drive\n"
          ]
        }
      ]
    },
    {
      "cell_type": "code",
      "execution_count": 2,
      "metadata": {
        "id": "ymrpeKxZs-ZI"
      },
      "outputs": [],
      "source": [
        "import cv2 as cv\n",
        "from google.colab.patches import cv2_imshow\n",
        "from skimage import io\n",
        "import matplotlib.pyplot as plt\n",
        "import numpy as np\n",
        "import math\n",
        "import os\n",
        "import glob"
      ]
    },
    {
      "cell_type": "markdown",
      "source": [
        "3.) Buatlah histogram citra seperti output histogram berikut berdasarkan flowchart di bawah ini : (Gunakan gambar lena.jpg)"
      ],
      "metadata": {
        "id": "xWIm3Aw-vWpw"
      }
    },
    {
      "cell_type": "code",
      "source": [
        "original = cv.imread('/content/drive/MyDrive/lena.jpg')\n",
        "height, width, depth = np.shape(original)\n",
        "angka = np.arange(260)\n",
        "\n",
        "red = [0]*260\n",
        "green = [0]*260\n",
        "blue = [0]*260\n",
        "\n",
        "for y in range(0,height):\n",
        "  for x in range(0, width):\n",
        "    red[original[y][x][0]] += 1\n",
        "    green[original[y][x][1]] += 1\n",
        "    blue[original[y][x][2]] += 1\n",
        "\n",
        "angka = np.arange(260)\n",
        "fig, axs = plt.subplots(1, 3, figsize=[20,5], sharex=True, sharey=True)\n",
        "fig.suptitle('Histogram RGB plot')\n",
        "fig.text(0.05,0.5, 'Jumlah Kemunculan', va='center', rotation='vertical')\n",
        "fig.text(0.5,0.4, 'Intensitas Warna', va='center')\n",
        "axs[0].bar(angka, red, color='red')\n",
        "axs[1].bar(angka, green, color='green')\n",
        "axs[2].bar(angka, blue, color='blue')"
      ],
      "metadata": {
        "id": "nof7hsI_vVyD",
        "outputId": "969c49bc-bfe0-444f-8e63-b865f17ba499",
        "colab": {
          "base_uri": "https://localhost:8080/",
          "height": 374
        }
      },
      "execution_count": 8,
      "outputs": [
        {
          "output_type": "execute_result",
          "data": {
            "text/plain": [
              "<BarContainer object of 260 artists>"
            ]
          },
          "metadata": {},
          "execution_count": 8
        },
        {
          "output_type": "display_data",
          "data": {
            "text/plain": [
              "<Figure size 1440x360 with 3 Axes>"
            ],
            "image/png": "[encoded data removed]"
          },
          "metadata": {
            "needs_background": "light"
          }
        }
      ]
    },
    {
      "cell_type": "code",
      "source": [],
      "metadata": {
        "id": "2BeelGvhv83o"
      },
      "execution_count": null,
      "outputs": []
    }
  ]
}